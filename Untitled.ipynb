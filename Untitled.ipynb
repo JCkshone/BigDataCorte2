{
 "cells": [
  {
   "cell_type": "code",
   "execution_count": 1,
   "id": "e64cc583-e72a-49de-8e23-6ce19e5cd37c",
   "metadata": {},
   "outputs": [
    {
     "name": "stdout",
     "output_type": "stream",
     "text": [
      "Collecting beautifulsoup4\n",
      "  Downloading beautifulsoup4-4.10.0-py3-none-any.whl (97 kB)\n",
      "\u001b[K     |████████████████████████████████| 97 kB 3.3 MB/s eta 0:00:011\n",
      "\u001b[?25hCollecting soupsieve>1.2\n",
      "  Downloading soupsieve-2.2.1-py3-none-any.whl (33 kB)\n",
      "Installing collected packages: soupsieve, beautifulsoup4\n",
      "Successfully installed beautifulsoup4-4.10.0 soupsieve-2.2.1\n",
      "Note: you may need to restart the kernel to use updated packages.\n"
     ]
    }
   ],
   "source": [
    "pip install beautifulsoup4"
   ]
  },
  {
   "cell_type": "code",
   "execution_count": 50,
   "id": "98dee3b8-bf89-4be9-8891-c7f912dc2514",
   "metadata": {},
   "outputs": [],
   "source": [
    "import requests\n",
    "from bs4 import BeautifulSoup\n",
    "\n",
    "URL = \"https://es.wikipedia.org/wiki/Anexo:Presidentes_de_Colombia\"\n",
    "page = requests.get(URL)\n",
    "soup = BeautifulSoup(page.content, \"html.parser\")\n",
    "tables = soup.find_all(\"table\", class_=\"wikitable\")\n",
    "\n",
    "presidentData = []\n",
    "titleData = []\n",
    "final_data = []\n",
    "\n",
    "for items in tables:\n",
    "    for presidentInfo in items.find_all(['tr']):\n",
    "        titleData.append(presidentInfo.find_all(['th']))\n",
    "        presidentData.append(presidentInfo)\n",
    "        #for item in presidentData.find_all(['td']):\n",
    "            #print(\"name\": item.text)\n",
    "    #data = [' '.join(item.text.split()) for item in items.find_all(['th','td'])]\n",
    "    #print(data)\n",
    "#print(results[0])\n",
    "#print(presidentData)\n",
    "#titleData = [x for x in titleData if x]\n",
    "#titleData = [item.text for item in titleData[0]]\n",
    "#new_presidentData = [v for v in presidentData if v not in titleData]\n",
    "#new_presidentData = [v for v in presidentData if v not in titleData]\n"
   ]
  },
  {
   "cell_type": "code",
   "execution_count": 51,
   "id": "ac312b90-a640-4193-87b3-f7b0a310c9d3",
   "metadata": {},
   "outputs": [
    {
     "name": "stdout",
     "output_type": "stream",
     "text": [
      "original size 132\n",
      "new size 126\n"
     ]
    }
   ],
   "source": [
    "#for (key, item) in enumerate(presidentData):\n",
    " #   if titleData[0] == item:\n",
    "  #      print(key, item)\n",
    "    \n",
    "#.find_all(['td'])\n",
    "\n",
    "#print(titleData)\n",
    "#print(new_presidentData)\n",
    "\n",
    "print(\"original size\", len(presidentData))\n",
    "for (key, item) in enumerate(titleData):\n",
    "    if len(item):\n",
    "        presidentData.pop(key)\n",
    "print(\"new size\", len(presidentData))"
   ]
  },
  {
   "cell_type": "code",
   "execution_count": 55,
   "id": "cc7a14be-4424-4b31-9c61-058ec5e28e19",
   "metadata": {},
   "outputs": [
    {
     "name": "stdout",
     "output_type": "stream",
     "text": [
      "[[<th colspan=\"2\" width=\"18%\"><b>Período</b></th>, <th width=\"8%\"><b>Efigie</b></th>, <th width=\"25%\"><b>Presidente</b></th>, <th width=\"12%\"><b>Ciudades</b>\n",
      "</th>, <th>Alineación</th>, <th width=\"30%\"><b>Comentarios</b>\n",
      "</th>], [], [], [], [], [], [], [], [], [], [], [], [], [], [], [], [], [], [], [], [], [<th colspan=\"2\" width=\"18%\"><b>Período</b></th>, <th width=\"8%\"><b>Efigie</b></th>, <th width=\"25%\"><b>Presidente</b></th>, <th width=\"15%\"><b>Doctrina Política</b></th>, <th width=\"30%\"><b>Comentarios</b>\n",
      "</th>], [], [], [], [], [], [], [], [], [], [<th colspan=\"2\" width=\"18%\"><b>Período</b></th>, <th width=\"8%\"><b>Efigie</b></th>, <th width=\"25%\"><b>Presidente</b></th>, <th width=\"15%\"><b>Doctrina / Partido</b></th>, <th width=\"30%\"><b>Comentarios</b>\n",
      "</th>], [], [], [], [], [], [], [], [], [], [], [], [], [], [<th colspan=\"2\" width=\"18%\"><b>Período</b></th>, <th width=\"8%\"><b>Efigie</b></th>, <th width=\"25%\"><b>Presidente</b></th>, <th width=\"15%\"><i>Partido</i></th>, <th width=\"9000000%\">Comentarios\n",
      "</th>], [], [], [], [<th colspan=\"2\" width=\"18%\"><b>Período</b></th>, <th width=\"8%\"><b>Efigie</b></th>, <th width=\"25%\"><b>Presidente</b></th>, <th width=\"15%\"><b>Partido</b></th>, <th width=\"30%\"><b>Comentarios</b>\n",
      "</th>], [], [], [], [], [], [], [], [], [], [], [], [], [], [], [], [], [], [], [], [], [], [], [], [], [<th colspan=\"2\" width=\"18%\"><b>Período</b></th>, <th width=\"8%\"><b>Efigie</b></th>, <th width=\"25%\"><b>Presidente</b></th>, <th width=\"15%\"><b>Partido</b></th>, <th width=\"30%\"><b>Comentarios</b>\n",
      "</th>], [], [], [], [], [], [], [], [], [], [], [], [], [], [], [], [], [], [], [], [], [], [], [], [], [], [], [], [], [], [], [], [], [], [], [], [], [], [], [], [], [], [], [], [], [], [], [], [], [], [], [], [], [], [], [], [], []]\n"
     ]
    }
   ],
   "source": [
    "print(titleData)"
   ]
  },
  {
   "cell_type": "code",
   "execution_count": 54,
   "id": "72c03249-9740-474c-87e9-5f1aeaa2f7b2",
   "metadata": {},
   "outputs": [
    {
     "ename": "IndexError",
     "evalue": "list index out of range",
     "output_type": "error",
     "traceback": [
      "\u001b[0;31m---------------------------------------------------------------------------\u001b[0m",
      "\u001b[0;31mIndexError\u001b[0m                                Traceback (most recent call last)",
      "\u001b[0;32m<ipython-input-54-3c4eacca66b7>\u001b[0m in \u001b[0;36m<module>\u001b[0;34m\u001b[0m\n\u001b[1;32m      2\u001b[0m     \u001b[0;32mfor\u001b[0m \u001b[0;34m(\u001b[0m\u001b[0mkey\u001b[0m\u001b[0;34m,\u001b[0m \u001b[0mdata\u001b[0m\u001b[0;34m)\u001b[0m \u001b[0;32min\u001b[0m \u001b[0menumerate\u001b[0m\u001b[0;34m(\u001b[0m\u001b[0mpresidentItem\u001b[0m\u001b[0;34m.\u001b[0m\u001b[0mfind_all\u001b[0m\u001b[0;34m(\u001b[0m\u001b[0;34m[\u001b[0m\u001b[0;34m'td'\u001b[0m\u001b[0;34m]\u001b[0m\u001b[0;34m)\u001b[0m\u001b[0;34m)\u001b[0m\u001b[0;34m:\u001b[0m\u001b[0;34m\u001b[0m\u001b[0;34m\u001b[0m\u001b[0m\n\u001b[1;32m      3\u001b[0m         final_data.append({\n\u001b[0;32m----> 4\u001b[0;31m             \u001b[0mfinal_data\u001b[0m\u001b[0;34m[\u001b[0m\u001b[0;36m0\u001b[0m\u001b[0;34m]\u001b[0m\u001b[0;34m[\u001b[0m\u001b[0mkey\u001b[0m\u001b[0;34m]\u001b[0m\u001b[0;34m:\u001b[0m \u001b[0mdata\u001b[0m\u001b[0;34m\u001b[0m\u001b[0;34m\u001b[0m\u001b[0m\n\u001b[0m\u001b[1;32m      5\u001b[0m         })\n\u001b[1;32m      6\u001b[0m \u001b[0;34m\u001b[0m\u001b[0m\n",
      "\u001b[0;31mIndexError\u001b[0m: list index out of range"
     ]
    }
   ],
   "source": [
    "for presidentItem in enumerate(presidentData):\n",
    "    for (key, data) in enumerate(presidentItem.find_all(['td'])):\n",
    "        \n",
    "        final_data.append({\n",
    "            final_data[0][key]: data\n",
    "        })\n",
    "        \n",
    "print(final_data)"
   ]
  },
  {
   "cell_type": "code",
   "execution_count": null,
   "id": "a4949b16-746c-4474-bb27-315e85ebb3eb",
   "metadata": {},
   "outputs": [],
   "source": []
  }
 ],
 "metadata": {
  "kernelspec": {
   "display_name": "Python 3",
   "language": "python",
   "name": "python3"
  },
  "language_info": {
   "codemirror_mode": {
    "name": "ipython",
    "version": 3
   },
   "file_extension": ".py",
   "mimetype": "text/x-python",
   "name": "python",
   "nbconvert_exporter": "python",
   "pygments_lexer": "ipython3",
   "version": "3.7.8"
  }
 },
 "nbformat": 4,
 "nbformat_minor": 5
}
